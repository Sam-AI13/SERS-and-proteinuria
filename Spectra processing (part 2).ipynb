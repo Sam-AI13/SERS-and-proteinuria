{
 "cells": [
  {
   "cell_type": "markdown",
   "id": "9c444257-b028-44cd-bb29-4fb48c263d89",
   "metadata": {},
   "source": [
    "# About the project\n",
    "The end goal of this project is to classify patients with high protein concentration in urine and the healthy group based on SERS (Surface Enchanced Raman Spectroscopy) spectral data and biomedical data.  \n",
    "This project is to be released as a research paper later in 2022 or 2023. Some information might not be fully shown here as a result.\n",
    "\n",
    "The project is divided into several Jupyter notebooks with the following names:\n",
    "1) Import raw urine spectra (part 1)\n",
    "2) Spectra processing (part 2)\n",
    "3) Classification of patients (part 3)\n",
    "4) Biomedical data (part 4)\n",
    "5) Comparison of nanoparticles (part 5)\n",
    "\n",
    "Author of all codes: Sultan Aitekenov, sultanaitekenov@gmail.com\n",
    "\n",
    "Part of the upcoming abstract:\n",
    "Excessive protein excretion in human urine is an early and sensitive marker of diabetic nephropathy, primary and secondary renal disease. Kidney problems, particularly chronic kidney disease, remain among the few growing causes of mortality in the world. Therefore, it is important to develop efficient, expressive, and low-cost method for protein determination. Surface enhanced Raman spectroscopy (SERS) methods are potential candidates to achieve those criteria. In this paper, the SERS methods was developed to distinguish patients with proteinuria and the healthy group. Commercial gold nanoparticles with the diameter of 60 nm and 100 nm, and silver nanoparticles with the diameter of 100 nm were employed. Silver, gold, silicon and test slides covered with aluminium tape were utilized as substrates. Obtained spectra were analysed with several machine learning algorithms coupled with the PCA, ROC curve, and cross-validation methods. "
   ]
  },
  {
   "cell_type": "markdown",
   "id": "b34515c8-e906-42f3-9ad8-44e9d5aa77b7",
   "metadata": {},
   "source": [
    "The end goal is to create a dictionary file that contains information about each patient (keys) and their respective spectra in the pandas' object type (values).# Processe spectra, create figures and save output into a file\n",
    "This script runs for 371 sec."
   ]
  },
  {
   "cell_type": "markdown",
   "id": "51a73521-e00d-4fab-ae36-8e1ddf7f6649",
   "metadata": {},
   "source": [
    "# Spectra processing (part 2)\n",
    "This part of the project is dedicated to spectra processing. In other words, this part is the feature extraction part.\n",
    "\n",
    "Raman spectra contain fluorescence background, spikes and noises. Several algorithms, such as the asymetric least squares, the median filter, the Savitsky Golay filter and the normalization by area, are used here. Then the resulting processed  spectra are plotted. "
   ]
  },
  {
   "cell_type": "markdown",
   "id": "d09497e8-f8e9-406a-8cbf-2e9f551a9418",
   "metadata": {},
   "source": [
    "## Loads all spectra and raman shift"
   ]
  },
  {
   "cell_type": "code",
   "execution_count": null,
   "id": "1d4918c9-c95e-4596-beac-7d9e715172d2",
   "metadata": {},
   "outputs": [],
   "source": [
    "# import information from pickle file\n",
    "import pickle\n",
    "file_check=open(\"raw_urine_spectra.pkl\",\"rb\")\n",
    "# # content of raw urine spectra\n",
    "# raw_urine_spectra = {\"Ag_100nm_AgNPs\": Ag_100nm_AgNPs,\n",
    "#                   \"Ag_100nm_AuNPs\": Ag_100nm_AuNPs,\n",
    "#                   \"Al_tape_60nm_AuNPs\": Al_tape_60nm_AuNPs,\n",
    "#                   \"Al_tape_100nm_AuNPs\": Al_tape_100nm_AuNPs,\n",
    "#                   \"Au_60nm_AuNPs\": Au_60nm_AuNPs,\n",
    "#                   \"Au_100nm_AuNPs\": Au_100nm_AuNPs,\n",
    "#                   \"Si_60nm_AuNPs\": Si_60nm_AuNPs,\n",
    "#                      \"Au_40nm_AuNPs\": Au_40nm_AuNPs\n",
    "#                      \"Au_no_AuNPs\": Au_no_AuNPs}\n",
    "raw_urine_spectra=pickle.load(file_check)"
   ]
  },
  {
   "cell_type": "code",
   "execution_count": null,
   "id": "8be5c0c1-06a1-4e32-badf-c019d680d0ab",
   "metadata": {},
   "outputs": [],
   "source": [
    "raw_urine_spectra.keys()"
   ]
  },
  {
   "cell_type": "code",
   "execution_count": null,
   "id": "9b54133e-eacc-401a-96f2-84671cdbad10",
   "metadata": {},
   "outputs": [],
   "source": [
    "# import raman shift data\n",
    "# Si_60nm_AuNPs is not included though\n",
    "import pandas as pd\n",
    "import numpy as np\n",
    "raman_shift_400_1800=np.array(pd.read_csv('raman_shift_400_1800.csv', header=None))\n",
    "wave = raman_shift_400_1800"
   ]
  },
  {
   "cell_type": "markdown",
   "id": "ea1d3189-6dcf-4153-afe7-67020157d643",
   "metadata": {
    "tags": []
   },
   "source": [
    "## Functions to process spectra"
   ]
  },
  {
   "cell_type": "code",
   "execution_count": null,
   "id": "7964f5a9-6803-441f-b78c-0cc5037cfb0b",
   "metadata": {},
   "outputs": [],
   "source": [
    "# ALS algorithm to remove fluorescence\n",
    "def baseline_als(y, lam, p, niter=10):\n",
    "    from scipy import sparse\n",
    "    from scipy.sparse.linalg import spsolve\n",
    "    L = len(y)\n",
    "    D = sparse.diags([1,-2,1],[0,-1,-2], shape=(L,L-2))\n",
    "    w = np.ones(L)\n",
    "    for i in range(niter):\n",
    "        W = sparse.spdiags(w, 0, L, L)\n",
    "        Z = W + lam * D.dot(D.transpose())\n",
    "        z = spsolve(Z, w*y)\n",
    "        w = p * (y > z) + (1-p) * (y < z)\n",
    "    return z"
   ]
  },
  {
   "cell_type": "code",
   "execution_count": null,
   "id": "4a859a2a-3fcd-4039-9923-11080c6433ae",
   "metadata": {},
   "outputs": [],
   "source": [
    "# process individual spectra by taking out the fluorescence, and applying filters\n",
    "def raman_process_each_spectra(input_dict):\n",
    "    import numpy as np\n",
    "    import copy\n",
    "    from scipy.ndimage import median_filter\n",
    "    from scipy.signal import savgol_filter\n",
    "    # output dictionary\n",
    "    output_dict = copy.deepcopy(input_dict)\n",
    "    \n",
    "    # process individual spectra\n",
    "    for i in input_dict.keys():\n",
    "        # loop over individual spectra for a given patient\n",
    "        for j in range(0, len(input_dict[i])):\n",
    "            # print(output_dict[i][j,:])\n",
    "            spectrum = input_dict[i][j,:]\n",
    "            baseline = baseline_als(spectrum, 100000, 0.001)\n",
    "            corrected = spectrum - baseline\n",
    "            corrected2 = median_filter(corrected, size=15) # filter size should be at least 15\n",
    "            corrected3 = savgol_filter(corrected2, 21, 2)\n",
    "            corrected3 = corrected3 / corrected3.sum(axis=0)\n",
    "            corrected4 = corrected3 - baseline_als(corrected3, 100000, 0.001)\n",
    "            # corrected4 = corrected3 - baseline_als(corrected3, 10000, 0.001) # very good filter, tested\n",
    "            output_dict[i][j,:] = corrected4\n",
    "\n",
    "    return output_dict"
   ]
  },
  {
   "cell_type": "markdown",
   "id": "43865e9e-ee87-4fda-a3e8-2481e982aeee",
   "metadata": {},
   "source": [
    "## Perform calculations"
   ]
  },
  {
   "cell_type": "code",
   "execution_count": null,
   "id": "01fede94-623b-48c7-82ee-0400e09bfc29",
   "metadata": {},
   "outputs": [],
   "source": [
    "import copy\n",
    "\n",
    "processed_urine_spectra_before_combined = copy.deepcopy(raw_urine_spectra)\n",
    "\n",
    "# cycles over keys and saves into a deepcopy output\n",
    "for key in raw_urine_spectra.keys():\n",
    "    processed_urine_spectra_before_combined[key] = raman_process_each_spectra(raw_urine_spectra[key])"
   ]
  },
  {
   "cell_type": "markdown",
   "id": "31f98d94-5de5-40c7-bed7-443402dbbe30",
   "metadata": {},
   "source": [
    "### Create plots for an individual patient"
   ]
  },
  {
   "cell_type": "code",
   "execution_count": null,
   "id": "0947e2b8-860f-4e2c-a5c7-97dfdf8eb6b2",
   "metadata": {},
   "outputs": [],
   "source": [
    "# choose experimental set and a patient's ID to display\n",
    "exp_set='Ag_100nm_AuNPs'\n",
    "patient_ID = 4\n",
    "\n",
    "import matplotlib.pyplot as plt\n",
    "plt.figure(figsize=(20,8))\n",
    "plt.subplot(1,2,1)\n",
    "for i in range(0,len(raw_urine_spectra[exp_set][patient_ID])):\n",
    "    plt.plot(wave[0], raw_urine_spectra[exp_set][patient_ID][i])\n",
    "    plt.title('before processing')\n",
    "    plt.xlabel('Raman shift, cm-1')\n",
    "plt.ylabel('Raman intensity, a.u.')\n",
    "plt.subplot(1,2,2)\n",
    "for i in range(0,len(processed_urine_spectra_before_combined[exp_set][patient_ID])):\n",
    "    plt.plot(wave[0], processed_urine_spectra_before_combined[exp_set][patient_ID][i])\n",
    "    plt.title('after processing')\n",
    "    plt.xlabel('Raman shift, cm-1')\n",
    "    plt.ylabel('Raman intensity, a.u.')"
   ]
  },
  {
   "cell_type": "markdown",
   "id": "79a56069-da2b-4a61-8b7a-bacd2a17068c",
   "metadata": {
    "tags": []
   },
   "source": [
    "## Combine individual spectrum for each patient"
   ]
  },
  {
   "cell_type": "code",
   "execution_count": null,
   "id": "3fc707b8-f812-416d-ab55-cf00c9f5d1ac",
   "metadata": {
    "tags": []
   },
   "outputs": [],
   "source": [
    "# create a deep copy with a final output\n",
    "processed_urine_spectra = copy.deepcopy(processed_urine_spectra_before_combined)\n",
    "processed_urine_spectra_no_normalize = copy.deepcopy(processed_urine_spectra_before_combined)\n",
    "\n",
    "# Combine and normalize individual spectrum for each patient\n",
    "for key_set in processed_urine_spectra_before_combined.keys():\n",
    "    for key_ID in processed_urine_spectra_before_combined[key_set].keys():\n",
    "        # combine by taking mean out of individual spectra for each patient\n",
    "        combined = np.mean(processed_urine_spectra_before_combined[key_set][key_ID], axis =0)\n",
    "        # normalize by unit area\n",
    "        processed_urine_spectra_no_normalize[key_set][key_ID] = combined\n",
    "        processed_urine_spectra[key_set][key_ID] = combined / combined.sum(axis=0)"
   ]
  },
  {
   "cell_type": "markdown",
   "id": "ee5625d2-532f-47e4-82ae-489e2d3a88bd",
   "metadata": {},
   "source": [
    "### Create plots for experimental sets with normalization"
   ]
  },
  {
   "cell_type": "code",
   "execution_count": null,
   "id": "e7d36350-eae1-49ba-8eb5-f3b77c7cc688",
   "metadata": {},
   "outputs": [],
   "source": [
    "# Combine every plot for each patient\n",
    "# plots every spectra for one experimental set as defined in exp_set\n",
    "for key_set in processed_urine_spectra.keys():\n",
    "    if key_set != 'Si_60nm_AuNPs':\n",
    "        plt.figure(figsize =(20,8))\n",
    "        plt.xlabel('Raman shift, cm-1')\n",
    "        plt.ylabel('Raman intensity, a.u.')\n",
    "        plt.title(f'{key_set} - experimental set')\n",
    "        for key_ID in processed_urine_spectra[key_set].keys():\n",
    "            plt.plot(wave[0], processed_urine_spectra[key_set][key_ID])\n",
    "        len(processed_urine_spectra[key_set])"
   ]
  },
  {
   "cell_type": "markdown",
   "id": "5b86899e-b739-4964-bffa-17a56484704a",
   "metadata": {},
   "source": [
    "### Create plots for experimental sets without normalization"
   ]
  },
  {
   "cell_type": "code",
   "execution_count": null,
   "id": "2f0d7661-b2f8-4b3d-9bfe-5821ca54ca1b",
   "metadata": {},
   "outputs": [],
   "source": [
    "# Combine every plot for each patient\n",
    "# plots every spectra for one experimental set as defined in exp_set\n",
    "for key_set in processed_urine_spectra_no_normalize.keys():\n",
    "    if key_set != 'Si_60nm_AuNPs':\n",
    "        plt.figure(figsize =(20,8))\n",
    "        plt.xlabel('Raman shift, cm-1')\n",
    "        plt.ylabel('Raman intensity, a.u.')\n",
    "        plt.title(f'{key_set} - experimental set')\n",
    "        for key_ID in processed_urine_spectra_no_normalize[key_set].keys():\n",
    "            plt.plot(wave[0], processed_urine_spectra_no_normalize[key_set][key_ID])\n",
    "        len(processed_urine_spectra_no_normalize[key_set])"
   ]
  },
  {
   "cell_type": "markdown",
   "id": "3c3a17b5-ce8a-4ba5-9418-6aef332cebef",
   "metadata": {},
   "source": [
    "## Save processed spectra as pickle"
   ]
  },
  {
   "cell_type": "code",
   "execution_count": null,
   "id": "565e6682-29e6-4a49-b7b0-aa2fc849e43e",
   "metadata": {},
   "outputs": [],
   "source": [
    "file_excel = 'processed_urine_spectra.xlsx'\n",
    "\n",
    "writer = pd.ExcelWriter(file_excel)\n",
    "\n",
    "for key_set in processed_urine_spectra:\n",
    "    \n",
    "    df = pd.DataFrame.from_dict( processed_urine_spectra[key_set] )\n",
    "    df.to_excel(writer, sheet_name=key_set, index=False)\n",
    "\n",
    "writer.save()\n",
    "writer.close()"
   ]
  },
  {
   "cell_type": "code",
   "execution_count": null,
   "id": "33e18b12-3872-497c-bdad-e2576274ca0e",
   "metadata": {},
   "outputs": [],
   "source": []
  }
 ],
 "metadata": {
  "kernelspec": {
   "display_name": "Python 3 (ipykernel)",
   "language": "python",
   "name": "python3"
  },
  "language_info": {
   "codemirror_mode": {
    "name": "ipython",
    "version": 3
   },
   "file_extension": ".py",
   "mimetype": "text/x-python",
   "name": "python",
   "nbconvert_exporter": "python",
   "pygments_lexer": "ipython3",
   "version": "3.9.13"
  }
 },
 "nbformat": 4,
 "nbformat_minor": 5
}
