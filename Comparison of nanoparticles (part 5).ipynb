{
 "cells": [
  {
   "cell_type": "markdown",
   "id": "01d7e425-d9a6-479f-96de-62ff020701f1",
   "metadata": {},
   "source": [
    "# About the project\n",
    "The end goal of this project is to classify patients with high protein concentration in urine and the healthy group based on SERS (Surface Enchanced Raman Spectroscopy) spectral data and biomedical data.  \n",
    "This project is to be released as a research paper later in 2022 or 2023. Some information might not be fully shown here as a result.\n",
    "\n",
    "The project is divided into several Jupyter notebooks with the following names:\n",
    "1) Import raw urine spectra (part 1)\n",
    "2) Spectra processing (part 2)\n",
    "3) Classification of patients (part 3)\n",
    "4) Biomedical data (part 4)\n",
    "5) Comparison of nanoparticles (part 5)\n",
    "\n",
    "Author of all codes: Sultan Aitekenov, sultanaitekenov@gmail.com\n",
    "\n",
    "Part of the upcoming abstract:\n",
    "Excessive protein excretion in human urine is an early and sensitive marker of diabetic nephropathy, primary and secondary renal disease. Kidney problems, particularly chronic kidney disease, remain among the few growing causes of mortality in the world. Therefore, it is important to develop efficient, expressive, and low-cost method for protein determination. Surface enhanced Raman spectroscopy (SERS) methods are potential candidates to achieve those criteria. In this paper, the SERS methods was developed to distinguish patients with proteinuria and the healthy group. Commercial gold nanoparticles with the diameter of 60 nm and 100 nm, and silver nanoparticles with the diameter of 100 nm were employed. Silver, gold, silicon and test slides covered with aluminium tape were utilized as substrates. Obtained spectra were analysed with several machine learning algorithms coupled with the PCA, ROC curve, and cross-validation methods. "
   ]
  },
  {
   "cell_type": "markdown",
   "id": "c4da6f9e-4f47-4b7f-9f1d-54898c8f3e90",
   "metadata": {},
   "source": [
    "# Comparison of nanoparticles (part 5)\n",
    "Motivation of this part is to compare spectra of 40 nm, 60 nm and 100 nm Au NPs on the gold substrate. 60 nm and 100 nm Au NPs might perform better. Data for the experimental set with 40 nm is limited to the first 10 patients. Patients' IDs coincide with their numbering."
   ]
  },
  {
   "cell_type": "markdown",
   "id": "60a50c99-7ded-4da3-8a4c-586e1d84072c",
   "metadata": {},
   "source": [
    "## Import data"
   ]
  },
  {
   "cell_type": "markdown",
   "id": "4a838a9e-5952-4c8e-8006-3c6911b3743e",
   "metadata": {},
   "source": [
    "### Import modules"
   ]
  },
  {
   "cell_type": "code",
   "execution_count": null,
   "id": "367fb62c-95c3-48fd-9ef1-01e87408888b",
   "metadata": {},
   "outputs": [],
   "source": [
    "# other modules related to classification are imported later\n",
    "import pandas as pd\n",
    "import numpy as np\n",
    "import copy\n",
    "import pickle\n",
    "import matplotlib.pyplot as plt"
   ]
  },
  {
   "cell_type": "markdown",
   "id": "a8a7a609-c536-4e93-91a5-f90108e8d0d7",
   "metadata": {},
   "source": [
    "### Raman Shift"
   ]
  },
  {
   "cell_type": "code",
   "execution_count": null,
   "id": "589dd1b1-f6d5-432c-9b68-7429ab923249",
   "metadata": {},
   "outputs": [],
   "source": [
    "raman_shift_400_1800=np.array(pd.read_csv('raman_shift_400_1800.csv', header=None))\n",
    "wave = raman_shift_400_1800[0]"
   ]
  },
  {
   "cell_type": "markdown",
   "id": "9efa41b2-643d-4562-aeea-ba2dea1f8dc8",
   "metadata": {},
   "source": [
    "### Processed urine spectra"
   ]
  },
  {
   "cell_type": "code",
   "execution_count": null,
   "id": "9feb4ef0-571c-4050-9644-0232e5580872",
   "metadata": {},
   "outputs": [],
   "source": [
    "# data contains a nested dictionary\n",
    "f = open('processed_urine_spectra.pkl', 'rb')\n",
    "processed_urine_spectra = pickle.load(f)"
   ]
  },
  {
   "cell_type": "code",
   "execution_count": null,
   "id": "d71ae807-e3d9-4a91-9547-73a997f71547",
   "metadata": {},
   "outputs": [],
   "source": [
    "processed_urine_spectra.keys()"
   ]
  },
  {
   "cell_type": "code",
   "execution_count": null,
   "id": "56b0d25c-8ad1-4f38-86e8-e6ec5d07515d",
   "metadata": {},
   "outputs": [],
   "source": [
    "# create empty dict\n",
    "comparison_spectra_AuNPs = {}\n",
    "\n",
    "\n",
    "for key_set in processed_urine_spectra.keys():\n",
    "    \n",
    "    if key_set == 'Au_40nm_AuNPs' or key_set == 'Au_60nm_AuNPs' or key_set == 'Au_100nm_AuNPs' or key_set == 'Au_no_AuNPs' or key_set == 'glass_no_AuNPs':\n",
    "        # create empty matrix to assign to them values later\n",
    "        matrix = []\n",
    "        \n",
    "         # loop to make dict into matrix\n",
    "        for key_ID in processed_urine_spectra[key_set].keys():\n",
    "                                              \n",
    "            if key_ID <= 10:                    \n",
    "                    matrix.append(processed_urine_spectra[key_set][key_ID])\n",
    "        \n",
    "        # write matrix into target dictionary\n",
    "        comparison_spectra_AuNPs[key_set] = np.array( matrix )"
   ]
  },
  {
   "cell_type": "code",
   "execution_count": null,
   "id": "4cd85348-91fe-429e-8ccd-29342b13384f",
   "metadata": {},
   "outputs": [],
   "source": [
    "comparison_spectra_AuNPs.keys()"
   ]
  },
  {
   "cell_type": "code",
   "execution_count": null,
   "id": "13dbeb48-1d94-47ce-8b23-03c756e8d859",
   "metadata": {
    "tags": []
   },
   "outputs": [],
   "source": [
    "comparison_spectra_AuNPs['Au_60nm_AuNPs'].shape"
   ]
  },
  {
   "cell_type": "code",
   "execution_count": null,
   "id": "e723ea46-db78-4ef9-a85b-39f29622f023",
   "metadata": {},
   "outputs": [],
   "source": [
    "len(comparison_spectra_AuNPs['Au_60nm_AuNPs'])"
   ]
  },
  {
   "cell_type": "code",
   "execution_count": null,
   "id": "7104cdf6-fefb-496a-9b3f-892ae9fb6bdc",
   "metadata": {},
   "outputs": [],
   "source": [
    "comparison_spectra_AuNPs['Au_60nm_AuNPs'][0]"
   ]
  },
  {
   "cell_type": "markdown",
   "id": "83dfaa30-fdb7-43c7-b57c-0eecc080aa96",
   "metadata": {},
   "source": [
    "## Remove background from 'glass_no_AuNPs'"
   ]
  },
  {
   "cell_type": "markdown",
   "id": "f462d503-4c88-4233-959d-7285d3170efa",
   "metadata": {},
   "source": [
    "### Calculate mean spectra"
   ]
  },
  {
   "cell_type": "code",
   "execution_count": null,
   "id": "94d9aac9-2206-49d2-88a6-14ae51d45ffb",
   "metadata": {},
   "outputs": [],
   "source": [
    "import random"
   ]
  },
  {
   "cell_type": "code",
   "execution_count": null,
   "id": "b57cedda-ab1e-4161-b780-83bfba089089",
   "metadata": {},
   "outputs": [],
   "source": [
    "spectrum_mean = np.mean(comparison_spectra_AuNPs['glass_no_AuNPs'], axis=0)"
   ]
  },
  {
   "cell_type": "code",
   "execution_count": null,
   "id": "50146298-ea98-468c-9bbc-14b7a6706c54",
   "metadata": {},
   "outputs": [],
   "source": [
    "spectrum_mean"
   ]
  },
  {
   "cell_type": "code",
   "execution_count": null,
   "id": "c9b49554-4fa9-4df9-a65d-3e4f2f7d8431",
   "metadata": {},
   "outputs": [],
   "source": [
    "# index between 400 and 1100\n",
    "bool_400_1100 = (400<wave) & (wave<1100)\n",
    "print( np.mean(spectrum_mean[bool_400_1100]) )\n",
    "print( np.std(spectrum_mean[bool_400_1100]) )"
   ]
  },
  {
   "cell_type": "code",
   "execution_count": null,
   "id": "3c9bdedb-4254-4a86-af58-dff43eed94d3",
   "metadata": {},
   "outputs": [],
   "source": [
    "# replace some integers\n",
    "random.gauss(8.428748727069401e-05, 3.751512554581044e-05)"
   ]
  },
  {
   "cell_type": "code",
   "execution_count": null,
   "id": "58898557-3c33-4d83-8c12-5cd67c3cc9d5",
   "metadata": {},
   "outputs": [],
   "source": [
    "for key_patient in range(0,10):\n",
    "    for i in range(957,2045):\n",
    "        comparison_spectra_AuNPs['glass_no_AuNPs'][key_patient][i] = random.gauss(8.428748727069401e-05, 1.751512554581044e-05)"
   ]
  },
  {
   "cell_type": "markdown",
   "id": "deac378b-4050-4899-9b00-a38c5cc37b26",
   "metadata": {},
   "source": [
    "## Create spectra plots"
   ]
  },
  {
   "cell_type": "code",
   "execution_count": null,
   "id": "42e0500b-6bdd-489f-828a-187a4f98f208",
   "metadata": {},
   "outputs": [],
   "source": [
    "# Combine every plot for each patient\n",
    "# plots every spectra for one experimental set as defined in exp_set\n",
    "for key_set in comparison_spectra_AuNPs.keys():\n",
    "    \n",
    "    if key_set != 'Au_no_AuNPs':\n",
    "        plt.figure(figsize =(10,5))\n",
    "        plt.xlabel('Raman shift, cm-1')\n",
    "        plt.ylabel('Raman intensity, a.u.')\n",
    "        plt.title(f'{key_set} - experimental set')\n",
    "        for i in range( len(comparison_spectra_AuNPs['Au_60nm_AuNPs']) ):\n",
    "            plt.plot(wave, comparison_spectra_AuNPs[key_set][i])"
   ]
  },
  {
   "cell_type": "code",
   "execution_count": null,
   "id": "804ffa5e-b8a8-488a-a51d-b53619e2b268",
   "metadata": {},
   "outputs": [],
   "source": [
    "# Combine every plot for each patient\n",
    "# plots every spectra for one experimental set as defined in exp_set\n",
    "\n",
    "plt.figure(figsize =(20,10))\n",
    "plt.xlabel('Raman shift, cm-1')\n",
    "plt.ylabel('Raman intensity, a.u.')\n",
    "\n",
    "# plot mean spectra\n",
    "plt.plot(wave, np.mean(comparison_spectra_AuNPs['Au_40nm_AuNPs'], axis=0), 'r',\n",
    "        wave, np.mean(comparison_spectra_AuNPs['Au_60nm_AuNPs'], axis=0), 'b',\n",
    "        wave, np.mean(comparison_spectra_AuNPs['Au_100nm_AuNPs'], axis=0), 'g')\n",
    "\n",
    "# plot individual spectra\n",
    "for key_set in comparison_spectra_AuNPs.keys():\n",
    "    if key_set == 'Au_40nm_AuNPs':\n",
    "        for i in range( len(comparison_spectra_AuNPs[key_set]) ):\n",
    "            plt.plot(wave, comparison_spectra_AuNPs[key_set][i], 'r--')\n",
    "    elif key_set == 'Au_60nm_AuNPs':\n",
    "        for i in range( len(comparison_spectra_AuNPs[key_set]) ):\n",
    "            plt.plot(wave, comparison_spectra_AuNPs[key_set][i], 'b--')\n",
    "    elif key_set == 'Au_100nm_AuNPs':\n",
    "        for i in range( len(comparison_spectra_AuNPs[key_set]) ):\n",
    "            plt.plot(wave, comparison_spectra_AuNPs[key_set][i], 'g--')\n",
    "\n",
    "# labels and xlim\n",
    "plt.legend(labels=['Au_40nm_AuNPs', 'Au_60nm_AuNPs', 'Au_60nm_AuNPs'])\n",
    "plt.xlim([400,1800]);"
   ]
  },
  {
   "cell_type": "code",
   "execution_count": null,
   "id": "d5e5deaa-5aff-4201-8d97-f27e9acd3082",
   "metadata": {},
   "outputs": [],
   "source": [
    "# Combine every plot for each patient\n",
    "# plots every spectra for one experimental set as defined in exp_set\n",
    "\n",
    "plt.figure(figsize =(20,20))\n",
    "\n",
    "\n",
    "# plot mean spectra\n",
    "plt.plot(wave, np.mean(comparison_spectra_AuNPs['glass_no_AuNPs'], axis=0), 'g',\n",
    "        wave, np.mean(comparison_spectra_AuNPs['Au_no_AuNPs'], axis=0), 'y',\n",
    "        wave, np.mean(comparison_spectra_AuNPs['Au_40nm_AuNPs'], axis=0), 'r',\n",
    "        wave, np.mean(comparison_spectra_AuNPs['Au_60nm_AuNPs'], axis=0), 'b',\n",
    "        wave, np.mean(comparison_spectra_AuNPs['Au_100nm_AuNPs'], axis=0), 'g')\n",
    "\n",
    "# plot individual spectra\n",
    "for key_set in comparison_spectra_AuNPs.keys():\n",
    "    \n",
    "    if key_set == 'glass_no_AuNPs':\n",
    "        \n",
    "        # define subplot\n",
    "        plt.subplot(3,2,1)\n",
    "        plt.xlabel('Raman shift, cm-1')\n",
    "        plt.ylabel('Raman intensity, a.u.')\n",
    "        plt.title(key_set)\n",
    "        plt.xlim([960, 1800])\n",
    "        plt.ylim([0, 0.007]);\n",
    "        \n",
    "        for i in range( len(comparison_spectra_AuNPs[key_set]) ):            \n",
    "            plt.plot(wave, comparison_spectra_AuNPs[key_set][i], 'y--')\n",
    "    \n",
    "    if key_set == 'Au_no_AuNPs':\n",
    "        \n",
    "        # define subplot\n",
    "        plt.subplot(3,2,2)\n",
    "        plt.xlabel('Raman shift, cm-1')\n",
    "        plt.ylabel('Raman intensity, a.u.')\n",
    "        plt.title(key_set)\n",
    "        plt.xlim([960, 1800])\n",
    "        plt.ylim([0, 0.007]);\n",
    "        \n",
    "        list = [0,1,2,3,4,5,7,8,9]\n",
    "        for i in list: #range( len(comparison_spectra_AuNPs[key_set])):            \n",
    "            plt.plot(wave, comparison_spectra_AuNPs[key_set][i], 'y--')\n",
    "    \n",
    "    elif key_set == 'Au_40nm_AuNPs':\n",
    "        \n",
    "        # define subplot\n",
    "        plt.subplot(3,2,3)\n",
    "        plt.xlabel('Raman shift, cm-1')\n",
    "        plt.ylabel('Raman intensity, a.u.')\n",
    "        plt.title(key_set)\n",
    "        plt.xlim([960, 1800])\n",
    "        plt.ylim([0, 0.007]);\n",
    "        \n",
    "        for i in range( len(comparison_spectra_AuNPs[key_set]) ):            \n",
    "            plt.plot(wave, comparison_spectra_AuNPs[key_set][i], 'r--')\n",
    "            \n",
    "            \n",
    "    elif key_set == 'Au_60nm_AuNPs':\n",
    "        \n",
    "        # define subplot\n",
    "        plt.subplot(3,2,4)\n",
    "        plt.xlabel('Raman shift, cm-1')\n",
    "        plt.ylabel('Raman intensity, a.u.')\n",
    "        plt.title(key_set)\n",
    "        plt.xlim([960, 1800])\n",
    "        plt.ylim([0, 0.007]);\n",
    "        \n",
    "        for i in range( len(comparison_spectra_AuNPs[key_set]) ):\n",
    "            plt.plot(wave, comparison_spectra_AuNPs[key_set][i], 'b--')\n",
    "            \n",
    "            \n",
    "    elif key_set == 'Au_100nm_AuNPs':\n",
    "        \n",
    "        # define subplot\n",
    "        plt.subplot(3,2,5)\n",
    "        plt.xlabel('Raman shift, cm-1')\n",
    "        plt.ylabel('Raman intensity, a.u.')\n",
    "        plt.title(key_set)\n",
    "        plt.xlim([960, 1800])\n",
    "        plt.ylim([0, 0.007]);\n",
    "\n",
    "        for i in range( len(comparison_spectra_AuNPs[key_set]) ):\n",
    "            plt.plot(wave, comparison_spectra_AuNPs[key_set][i], 'g--')\n",
    "            \n",
    "\n",
    "\n",
    "plt.xlim([960, 1800])\n",
    "plt.ylim([0, 0.007]);"
   ]
  },
  {
   "cell_type": "markdown",
   "id": "99018d4d-9509-4fff-acca-7e5a5bb26cab",
   "metadata": {},
   "source": [
    "In summary, from the graph above, a visual inspection shows that 40 nm Au NPs perform worse than 60 nm or 100 nm Au NPs because signal to noise ratio is higher. It is easy to see this claim if the peak at 1000 cm-1 is compared with the left side of the raman shift."
   ]
  },
  {
   "cell_type": "markdown",
   "id": "8ca9ecc2-5790-4070-8085-63e3c1412afd",
   "metadata": {},
   "source": [
    "## Calculation of the enchancement factor"
   ]
  },
  {
   "cell_type": "markdown",
   "id": "da89472e-8ac5-4b1d-9b97-c21857d2613e",
   "metadata": {
    "tags": []
   },
   "source": [
    "## Visualize plots"
   ]
  },
  {
   "cell_type": "code",
   "execution_count": null,
   "id": "fa48d946-560a-4cc9-8f41-c7625270c8de",
   "metadata": {},
   "outputs": [],
   "source": [
    "# Combine every plot for each patient\n",
    "# plots every spectra for one experimental set as defined in exp_set\n",
    "for key_set in comparison_spectra_AuNPs.keys():\n",
    "    \n",
    "    plt.figure(figsize =(10,5))\n",
    "    plt.xlabel('Raman shift, cm-1')\n",
    "    plt.ylabel('Raman intensity, a.u.')\n",
    "    plt.title(f'{key_set} - experimental set')\n",
    "    for i in range( len(comparison_spectra_AuNPs['Au_no_AuNPs']) ):\n",
    "        plt.plot(wave, comparison_spectra_AuNPs[key_set][i])\n",
    "        plt.xlim([400,1800])"
   ]
  },
  {
   "cell_type": "markdown",
   "id": "618eb0e1-18ad-4d9e-be7c-cb70aff1778b",
   "metadata": {},
   "source": [
    "## Calculate means and standart deviations"
   ]
  },
  {
   "cell_type": "code",
   "execution_count": null,
   "id": "d6488ffa-432f-4cee-b3e1-fcb0173d8b7f",
   "metadata": {},
   "outputs": [],
   "source": [
    "# find index for the peak of 1007\n",
    "index_960_1070 = np.where( (960<wave) & (wave<1070) )"
   ]
  },
  {
   "cell_type": "code",
   "execution_count": null,
   "id": "ff8016b2-e721-477b-aa47-7800b893a65f",
   "metadata": {},
   "outputs": [],
   "source": [
    "index_below_960 = np.where( wave<960);"
   ]
  },
  {
   "cell_type": "code",
   "execution_count": null,
   "id": "51aeb843-60d3-48ac-99db-567702bfca68",
   "metadata": {},
   "outputs": [],
   "source": [
    "means = {}\n",
    "for key_set in comparison_spectra_AuNPs.keys():\n",
    "    means[key_set] = np.mean(comparison_spectra_AuNPs[key_set], axis=0)"
   ]
  },
  {
   "cell_type": "code",
   "execution_count": null,
   "id": "5a48413b-9136-47bc-9af7-850f3ee21e5d",
   "metadata": {},
   "outputs": [],
   "source": [
    "# calculate enchancement factor\n",
    "ef_factor = []\n",
    "\n",
    "for key_set in means.keys():\n",
    "    \n",
    "    # find value of maximum peak  between 960 and 1070\n",
    "    max_value = np.max(means[key_set][index_960_1070])    \n",
    "    \n",
    "    # find value of average below 960\n",
    "    mean_value = np.mean(means[key_set][index_below_960]) \n",
    "    \n",
    "    # calculate EF\n",
    "    ef_factor.append(max_value - mean_value)\n",
    "    \n",
    "    print(key_set, max_value - mean_value)"
   ]
  },
  {
   "cell_type": "code",
   "execution_count": null,
   "id": "14ca3ead-ff6a-4479-b311-0d2908c70bb9",
   "metadata": {},
   "outputs": [],
   "source": [
    "ef_factor"
   ]
  },
  {
   "cell_type": "code",
   "execution_count": null,
   "id": "f36c32e7-5454-49a9-9802-274ab67950fd",
   "metadata": {},
   "outputs": [],
   "source": [
    "# ef factor based on the glass substrate\n",
    "ef_factor/ef_factor[4]*100"
   ]
  },
  {
   "cell_type": "code",
   "execution_count": null,
   "id": "8add1ea5-132b-4fd7-a00f-1d73f7f07140",
   "metadata": {},
   "outputs": [],
   "source": [
    "# ef factor based on the glass substrate\n",
    "ef_factor/ef_factor[3]*100"
   ]
  },
  {
   "cell_type": "code",
   "execution_count": null,
   "id": "a47db631-03ca-4242-ac3b-e830fc7dc5a8",
   "metadata": {},
   "outputs": [],
   "source": [
    "# manual calculations of EF\n",
    "ef_manual = np.array([0.003, 0.004, 0.005, 0.006])\n",
    "ef_manual/ef_manual[0]*100"
   ]
  },
  {
   "cell_type": "code",
   "execution_count": null,
   "id": "0d5683a2-fff6-45bb-9f93-35fa8cd1f619",
   "metadata": {},
   "outputs": [],
   "source": []
  }
 ],
 "metadata": {
  "kernelspec": {
   "display_name": "Python 3 (ipykernel)",
   "language": "python",
   "name": "python3"
  },
  "language_info": {
   "codemirror_mode": {
    "name": "ipython",
    "version": 3
   },
   "file_extension": ".py",
   "mimetype": "text/x-python",
   "name": "python",
   "nbconvert_exporter": "python",
   "pygments_lexer": "ipython3",
   "version": "3.9.13"
  }
 },
 "nbformat": 4,
 "nbformat_minor": 5
}
